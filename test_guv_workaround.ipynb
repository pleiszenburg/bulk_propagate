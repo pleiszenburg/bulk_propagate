{
 "cells": [
  {
   "cell_type": "markdown",
   "id": "caf1b6e8-0316-43d5-bc49-c814e1787440",
   "metadata": {},
   "source": [
    "# Setup for this notebook\n",
    "\n",
    "1) Poliastro:\n",
    "\n",
    "```bash\n",
    "git clone git://github.com/s-m-e/poliastro.git\n",
    "cd poliastro\n",
    "git checkout 879f7ab62d05361aff88575bd060d8ff9f880a14\n",
    "pip install -e .\n",
    "```\n",
    "\n",
    "2) Extra packages\n",
    "\n",
    "```bash\n",
    "pip install joblib orbitalpy psutil\n",
    "```\n",
    "\n",
    "3) Data: \n",
    "\n",
    "```bash\n",
    "wget https://minorplanetcenter.net/Extended_Files/nea_extended.json.gz\n",
    "gzip -d nea_extended.json.gz\n",
    "```"
   ]
  },
  {
   "cell_type": "markdown",
   "id": "53c2ea0c-8aac-438e-957f-9dcc71d2543d",
   "metadata": {},
   "source": [
    "# Loading test data: Near Earth Asteroid (NEA) orbits from the MPC"
   ]
  },
  {
   "cell_type": "code",
   "execution_count": 1,
   "id": "7eba6c6e-4d4c-49c4-8b03-5b3965f26d72",
   "metadata": {},
   "outputs": [],
   "source": [
    "FN = 'nea_extended.json'\n",
    "\n",
    "import json\n",
    "\n",
    "from astropy import units as u\n",
    "from joblib import Parallel, delayed\n",
    "import numpy as np\n",
    "from orbital.utilities import true_anomaly_from_mean\n",
    "import psutil\n",
    "\n",
    "from poliastro.bodies import Sun"
   ]
  },
  {
   "cell_type": "code",
   "execution_count": 2,
   "id": "e78db0cc-e163-49a4-88f8-b20f7166b80e",
   "metadata": {},
   "outputs": [],
   "source": [
    "K = Sun.k.to_value(u.km**3 / u.s**2)\n",
    "\n",
    "def _orbit_from_mpc(body):\n",
    "    nu = true_anomaly_from_mean(\n",
    "        e = body['e'],\n",
    "        M = float((body['M'] * u.deg).to(u.rad).value)\n",
    "    ) * u.rad\n",
    "    if not -np.pi * u.rad <= nu < np.pi * u.rad:\n",
    "        nu = ((nu + np.pi * u.rad) % (2 * np.pi * u.rad) - np.pi * u.rad).to(nu.unit)\n",
    "    return (\n",
    "        ((body['a'] * u.AU).to_value(u.km) * (1 - body['e']**2)),  # a\n",
    "        body['e'],  # ecc\n",
    "        (body['i'] * u.deg).to_value(u.rad),  # inc\n",
    "        (body['Node'] * u.deg).to_value(u.rad),  # raan\n",
    "        (body['Peri'] * u.deg).to_value(u.rad),  # argp\n",
    "        nu.to_value(u.rad),  # nu\n",
    "    )\n",
    "\n",
    "def _read_mpc(fn):\n",
    "    with open(fn, 'r', encoding = 'utf-8') as f:\n",
    "        raw = json.load(f)\n",
    "    return Parallel(n_jobs = psutil.cpu_count(logical = True))(delayed(_orbit_from_mpc)(body) for body in raw)\n",
    "\n",
    "mpc_orbits = np.array(_read_mpc(FN), dtype = 'f8')"
   ]
  },
  {
   "cell_type": "markdown",
   "id": "a433a663-bf20-427f-b585-ed85d21ec7dd",
   "metadata": {},
   "source": [
    "# Import of poliastro's new `jit` infrastructure"
   ]
  },
  {
   "cell_type": "code",
   "execution_count": 3,
   "id": "02f18bea-7d02-4519-a937-06e84010894b",
   "metadata": {},
   "outputs": [
    {
     "name": "stdout",
     "output_type": "stream",
     "text": [
      "parallel never\n"
     ]
    }
   ],
   "source": [
    "from math import cos, sin, sqrt\n",
    "import os\n",
    "\n",
    "import numpy as np\n",
    "\n",
    "# POLIASTRO_TARGET can be set to `cpu`, `parallel` or `cuda`. Default: `cpu`\n",
    "os.environ['POLIASTRO_TARGET'] = 'parallel'  \n",
    "\n",
    "# POLIASTRO_INLINE can be set to `always` or `never`. Default: `never`\n",
    "os.environ['POLIASTRO_INLINE'] = 'never'\n",
    "\n",
    "from poliastro.core.jit import gjit, hjit, vjit, TARGET, INLINE\n",
    "\n",
    "print(TARGET, INLINE)  # verfication"
   ]
  },
  {
   "cell_type": "markdown",
   "id": "488cd252-9394-4284-b469-74d793d41282",
   "metadata": {},
   "source": [
    "# Isolated code-path for conversion of classical orbital elements to state vectors"
   ]
  },
  {
   "cell_type": "code",
   "execution_count": 4,
   "id": "36393c8e-3aa5-4938-9ba4-3807dff2bc80",
   "metadata": {},
   "outputs": [],
   "source": [
    "@hjit('M(M)')\n",
    "def transpose_M_(a):\n",
    "    return (\n",
    "        (a[0][0], a[1][0], a[2][0]),\n",
    "        (a[0][1], a[1][1], a[2][1]),\n",
    "        (a[0][2], a[1][2], a[2][2]),\n",
    "    )\n",
    "\n",
    "@hjit('M(M,M)')\n",
    "def matmul_MM_(a, b):\n",
    "    return (\n",
    "        (\n",
    "            a[0][0] * b[0][0] + a[0][1] * b[1][0] + a[0][2] * b[2][0],\n",
    "            a[0][0] * b[0][1] + a[0][1] * b[1][1] + a[0][2] * b[2][1],\n",
    "            a[0][0] * b[0][2] + a[0][1] * b[1][2] + a[0][2] * b[2][2],\n",
    "        ),\n",
    "        (\n",
    "            a[1][0] * b[0][0] + a[1][1] * b[1][0] + a[1][2] * b[2][0],\n",
    "            a[1][0] * b[0][1] + a[1][1] * b[1][1] + a[1][2] * b[2][1],\n",
    "            a[1][0] * b[0][2] + a[1][1] * b[1][2] + a[1][2] * b[2][2],\n",
    "        ),\n",
    "        (\n",
    "            a[2][0] * b[0][0] + a[2][1] * b[1][0] + a[2][2] * b[2][0],\n",
    "            a[2][0] * b[0][1] + a[2][1] * b[1][1] + a[2][2] * b[2][1],\n",
    "            a[2][0] * b[0][2] + a[2][1] * b[1][2] + a[2][2] * b[2][2],\n",
    "        ),\n",
    "    )\n",
    "\n",
    "@hjit('V(V,M)')\n",
    "def matmul_VM_(a, b):\n",
    "    return (\n",
    "        a[0] * b[0][0] + a[1] * b[1][0] + a[2] * b[2][0],\n",
    "        a[0] * b[0][1] + a[1] * b[1][1] + a[2] * b[2][1],\n",
    "        a[0] * b[0][2] + a[1] * b[1][2] + a[2] * b[2][2],\n",
    "    )\n",
    "\n",
    "@hjit('M(f,u1)')\n",
    "def rotation_matrix_(angle, axis):\n",
    "    c = cos(angle)\n",
    "    s = sin(angle)\n",
    "    if axis == 0:\n",
    "        return (\n",
    "            (1.0, 0.0, 0.0),\n",
    "            (0.0,   c,  -s),\n",
    "            (0.0,   s,   c),\n",
    "        )\n",
    "    if axis == 1:\n",
    "        return (\n",
    "            (  c, 0.0,   s),\n",
    "            (0.0, 1.0, 0.0),\n",
    "            (  s, 0.0,   c),\n",
    "        )\n",
    "    if axis == 2:\n",
    "        return (\n",
    "            (  c,  -s, 0.0),\n",
    "            (  s,   c, 0.0),\n",
    "            (0.0, 0.0, 1.0),\n",
    "        )\n",
    "    raise ValueError(\"Invalid axis: must be one of 0, 1 or 2\")\n",
    "\n",
    "@hjit('Tuple([V,V])(f,f,f,f)')\n",
    "def rv_pqw_(k, p, ecc, nu):\n",
    "    sinnu = sin(nu)\n",
    "    cosnu = cos(nu)\n",
    "    a = p / (1 + ecc * cosnu)\n",
    "    b = sqrt(k / p)\n",
    "    return (\n",
    "        (cosnu * a, sinnu * a, 0),\n",
    "        (-sinnu * b, (ecc + cosnu) * b, 0),\n",
    "    )\n",
    "\n",
    "@hjit('M(f,f,f)')\n",
    "def coe_rotation_matrix_(inc, raan, argp):\n",
    "    r = rotation_matrix_(raan, 2)\n",
    "    r = matmul_MM_(r, rotation_matrix_(inc, 0))\n",
    "    return matmul_MM_(r, rotation_matrix_(argp, 2))\n",
    "\n",
    "@hjit('Tuple([V,V])(f,f,f,f,f,f,f)')\n",
    "def coe2rv_(k, p, ecc, inc, raan, argp, nu):\n",
    "    \"Converts from classical orbital to state vectors\"\n",
    "    r, v = rv_pqw_(k, p, ecc, nu)\n",
    "    rm = transpose_M_(coe_rotation_matrix_(inc, raan, argp))\n",
    "    return matmul_VM_(r, rm), matmul_VM_(v, rm)"
   ]
  },
  {
   "cell_type": "markdown",
   "id": "3cba035a-cf6f-42bf-aabb-d88b981e6b12",
   "metadata": {},
   "source": [
    "# Testing for single orbit/state"
   ]
  },
  {
   "cell_type": "code",
   "execution_count": 5,
   "id": "de6b0437-e58a-4aab-b04d-52bcb5e93a64",
   "metadata": {},
   "outputs": [
    {
     "name": "stdout",
     "output_type": "stream",
     "text": [
      "((-82217232.08344641, -220850539.44815192, -36798614.1385071), (18.787582906265396, -12.196739597201557, 1.6538450388075674))\n"
     ]
    }
   ],
   "source": [
    "if TARGET != 'cuda':\n",
    "    print(coe2rv_(K, *mpc_orbits[0, :]))"
   ]
  },
  {
   "cell_type": "markdown",
   "id": "5ee9e06c-62ff-4778-963f-b25c5c5699aa",
   "metadata": {},
   "source": [
    "# Testing for **array** of orbits/states\n",
    "\n",
    "We are dealing with around 20k NEAs."
   ]
  },
  {
   "cell_type": "code",
   "execution_count": 6,
   "id": "3977aa92-d33f-4c71-b2e6-8f75e1a91f6f",
   "metadata": {},
   "outputs": [
    {
     "data": {
      "text/plain": [
       "(20250, 6)"
      ]
     },
     "execution_count": 6,
     "metadata": {},
     "output_type": "execute_result"
    }
   ],
   "source": [
    "mpc_orbits.shape"
   ]
  },
  {
   "cell_type": "markdown",
   "id": "1c79cf74-0265-4035-bb97-0281d67369bd",
   "metadata": {},
   "source": [
    "Let's reshape this array, just for fun and for testing purposes:"
   ]
  },
  {
   "cell_type": "code",
   "execution_count": 7,
   "id": "1ad12fc0-c04f-44e5-9b01-78f418ed6ef9",
   "metadata": {},
   "outputs": [],
   "source": [
    "mpc_orbits = mpc_orbits.reshape(2025, 10, 6)"
   ]
  },
  {
   "cell_type": "markdown",
   "id": "1895d68e-56d5-4e56-ba8c-c6f05e80846b",
   "metadata": {},
   "source": [
    "Preparing data structures for the output, state vectors:"
   ]
  },
  {
   "cell_type": "code",
   "execution_count": 8,
   "id": "fccb341f-6acc-403c-8258-957dfa968b45",
   "metadata": {},
   "outputs": [
    {
     "name": "stdout",
     "output_type": "stream",
     "text": [
      "float64 True 3 (2025, 10, 6)\n",
      "float64 True 3 (2025, 10, 6)\n",
      "float64 True 0 ()\n"
     ]
    }
   ],
   "source": [
    "_rv = np.zeros((*mpc_orbits.shape[:-1], 6), dtype = 'f8')  # will hold **both** location and velocity\n",
    "\n",
    "r = _rv[..., :3]  # view for location\n",
    "v = _rv[..., 3:]  # view for velocity\n",
    "\n",
    "for item in (mpc_orbits, _rv, K):\n",
    "    print(item.dtype, item.flags.c_contiguous, item.ndim, item.shape)"
   ]
  },
  {
   "cell_type": "code",
   "execution_count": 9,
   "id": "21474467-8466-40e6-89fd-feb5f0eca2c8",
   "metadata": {},
   "outputs": [
    {
     "data": {
      "text/plain": [
       "(array([[[-8.22172321e+07, -2.20850539e+08, -3.67986141e+07],\n",
       "         [-1.68505479e+08,  3.97092826e+08, -8.34073051e+07],\n",
       "         [ 2.28586647e+08, -5.12990316e+08, -5.81423124e+06],\n",
       "         ...,\n",
       "         [ 6.68103075e+07, -1.14410460e+08, -1.88640432e+07],\n",
       "         [-7.81148760e+07,  3.66365015e+08, -2.87342261e+07],\n",
       "         [-2.51805248e+08, -2.56199326e+07, -4.18103843e+07]],\n",
       " \n",
       "        [[-2.56571710e+08, -1.82615361e+07,  1.49937158e+07],\n",
       "         [-1.78544775e+08, -6.34150849e+06, -1.59735705e+07],\n",
       "         [-3.33093136e+07,  1.97400579e+08,  8.16239491e+07],\n",
       "         ...,\n",
       "         [-4.63304869e+08, -1.22771857e+08,  2.42270901e+07],\n",
       "         [-5.25384686e+07, -1.53961579e+08,  2.09643001e+06],\n",
       "         [-1.39020542e+08, -2.38760093e+08, -1.65384189e+07]],\n",
       " \n",
       "        [[ 1.82695110e+07,  3.35900953e+08,  2.80538859e+08],\n",
       "         [ 1.83578752e+08, -1.65748349e+08,  4.28060204e+07],\n",
       "         [-3.69813203e+08,  2.18546307e+08, -2.41774216e+07],\n",
       "         ...,\n",
       "         [ 9.82479605e+07,  3.74614712e+07, -2.06761402e+08],\n",
       "         [-4.11150067e+07,  1.02449996e+08, -4.61846684e+07],\n",
       "         [ 4.52332042e+08, -2.06872367e+08, -2.16069652e+07]],\n",
       " \n",
       "        ...,\n",
       " \n",
       "        [[ 2.72629072e+07, -1.61016060e+08, -1.20397005e+07],\n",
       "         [-1.69241462e+08, -2.42102392e+08, -5.30321289e+07],\n",
       "         [ 1.04916063e+08, -2.11193393e+08,  1.98918778e+07],\n",
       "         ...,\n",
       "         [-2.62428287e+08, -2.09464397e+08,  1.51167162e+08],\n",
       "         [-5.12861669e+08, -9.91849403e+07,  2.42967162e+07],\n",
       "         [ 9.69284954e+07, -1.43521287e+08, -6.71503549e+06]],\n",
       " \n",
       "        [[-3.20565081e+07, -1.15045032e+08, -6.74802840e+06],\n",
       "         [-1.65599491e+08, -2.37139215e+08,  3.49761602e+07],\n",
       "         [-2.15486285e+08,  2.46466831e+07,  8.71800840e+07],\n",
       "         ...,\n",
       "         [-9.02367922e+07, -1.41747763e+08,  6.34111772e+07],\n",
       "         [-1.96734144e+07, -2.04699341e+08,  1.11239437e+07],\n",
       "         [-9.51028678e+07, -1.50362223e+08, -1.22793419e+08]],\n",
       " \n",
       "        [[-4.59875706e+07,  1.37100997e+08,  3.42038571e+07],\n",
       "         [-3.18053474e+08,  7.01287771e+06,  2.59542419e+08],\n",
       "         [-4.33444981e+08,  1.15088456e+08, -9.47952835e+06],\n",
       "         ...,\n",
       "         [ 3.89940003e+07, -1.29757595e+08,  5.41316389e+07],\n",
       "         [-1.25327990e+08, -1.72807704e+08, -4.90166215e+07],\n",
       "         [ 1.00536243e+08,  3.29143864e+08,  1.21615287e+08]]]),\n",
       " array([[[ 1.87875829e+01, -1.21967396e+01,  1.65384504e+00],\n",
       "         [-1.61191056e+01,  2.73889356e+00, -7.82548454e-01],\n",
       "         [ 8.01970316e+00,  6.87396875e+00, -1.63941873e+00],\n",
       "         ...,\n",
       "         [ 3.35466508e+01,  1.07743805e+01,  5.43756074e+00],\n",
       "         [-1.50919542e+01,  7.92193823e-02,  1.62861892e+00],\n",
       "         [-5.22797865e+00, -1.89038403e+01, -1.09282967e+00]],\n",
       " \n",
       "        [[ 1.22590455e+01, -1.64671023e+01, -2.28610387e+00],\n",
       "         [ 1.60948699e+01, -2.77219028e+01, -7.71015499e+00],\n",
       "         [-2.17600795e+01,  1.08444808e+01,  5.42378262e+00],\n",
       "         ...,\n",
       "         [ 1.50576479e+00, -1.07158514e+01,  4.80921238e+00],\n",
       "         [ 2.86947558e+01, -1.28354408e+01,  4.81362487e+00],\n",
       "         [ 1.86283213e+01, -2.81661127e+00,  9.22740878e+00]],\n",
       " \n",
       "        [[-1.03150385e+01, -3.48088486e-03, -4.71183931e-01],\n",
       "         [ 8.47143866e+00,  2.51810711e+01, -4.00179322e+00],\n",
       "         [-1.29109295e+01, -7.64930310e+00,  5.66154469e-02],\n",
       "         ...,\n",
       "         [-4.78274123e+00,  1.97179525e+01,  6.70442357e+00],\n",
       "         [-3.71964706e+01, -1.63094383e+01,  3.73260637e+00],\n",
       "         [ 9.55318573e+00,  5.80669856e+00, -3.40216315e-01]],\n",
       " \n",
       "        ...,\n",
       " \n",
       "        [[ 2.89936189e+01,  7.87727477e+00,  5.21225272e+00],\n",
       "         [ 1.47269153e+01, -8.41378605e+00, -6.13823952e+00],\n",
       "         [ 1.82492514e+01,  4.60128611e+00,  1.13751912e+01],\n",
       "         ...,\n",
       "         [-7.27267961e+00, -1.75227947e+01,  7.34277777e+00],\n",
       "         [-4.14380941e+00, -1.08745852e+01, -1.97952685e-01],\n",
       "         [ 2.69595952e+01,  1.32452077e+01,  7.46592756e-01]],\n",
       " \n",
       "        [[ 4.03106667e+01,  6.10572742e-01, -1.05207288e+01],\n",
       "         [ 8.12232155e+00, -2.10030142e+01, -7.83048564e+00],\n",
       "         [ 5.25456755e+00, -2.35138081e+01, -1.52857047e+00],\n",
       "         ...,\n",
       "         [ 2.49888407e+01, -1.15224266e+01, -4.03537135e+00],\n",
       "         [ 2.43166963e+01, -1.11214716e+01, -5.74375411e+00],\n",
       "         [ 2.58362039e+01, -1.30514741e+00, -4.87473105e+00]],\n",
       " \n",
       "        [[-1.87376384e+01, -1.32551051e+01, -3.18028960e+00],\n",
       "         [ 9.74676638e+00, -7.49284011e+00,  4.64975127e+00],\n",
       "         [-1.07427901e+01, -6.29632586e+00, -1.34395680e-01],\n",
       "         ...,\n",
       "         [ 3.00955654e+01,  5.42495671e+00,  5.21728375e+00],\n",
       "         [ 1.77841256e+01, -3.92195834e+00, -1.45022260e+00],\n",
       "         [-1.62219419e+01, -5.35003180e+00,  4.51050670e+00]]]))"
      ]
     },
     "execution_count": 9,
     "metadata": {},
     "output_type": "execute_result"
    }
   ],
   "source": [
    "@gjit(\n",
    "    'void(f,f[:],f[:])',\n",
    "    '(),(n)->(n)',  # should read (),(6)->(6)\n",
    ")\n",
    "def coe2rv(k, cl, sv):\n",
    "    \"\"\"\n",
    "    Converts from classical orbital elements to state vectors ON ARRAYS\n",
    "    cl[0...5] : p, ecc, inc, raan, argp, nu\n",
    "    sv[0...5] : rx, ry, rz, vx, vy, vz\n",
    "    \"\"\"\n",
    "    (sv[0], sv[1], sv[2]), (sv[3], sv[4], sv[5]) = coe2rv_(k, cl[0], cl[1], cl[2], cl[3], cl[4], cl[5])\n",
    "\n",
    "coe2rv(K, mpc_orbits, _rv)  # Here, true magic happens!\n",
    "\n",
    "r, v  # Let's have a look at the views"
   ]
  },
  {
   "cell_type": "markdown",
   "id": "8b315aa9-22eb-45dd-947f-ac61af4d27b2",
   "metadata": {},
   "source": [
    "Expected output for the below statement, the first set of orbital elements:\n",
    "\n",
    "`(-82217232.08344641, -220850539.44815192, -36798614.1385071), (18.787582906265396, -12.196739597201557, 1.6538450388075674)`"
   ]
  },
  {
   "cell_type": "code",
   "execution_count": 10,
   "id": "6b67819d-80f6-4a70-bf4e-04c0936c3681",
   "metadata": {},
   "outputs": [
    {
     "name": "stdout",
     "output_type": "stream",
     "text": [
      "[-8.22172321e+07 -2.20850539e+08 -3.67986141e+07] [ 18.78758291 -12.1967396    1.65384504]\n"
     ]
    }
   ],
   "source": [
    "print(r[0,0,:], v[0,0,:])"
   ]
  },
  {
   "cell_type": "markdown",
   "id": "ba2beadf-2252-416d-a7f9-0e0e622ac1a4",
   "metadata": {},
   "source": [
    "And last but not least the \"scalar case\":"
   ]
  },
  {
   "cell_type": "code",
   "execution_count": 11,
   "id": "a8cbe115-8493-4270-a80d-12a206f1b587",
   "metadata": {},
   "outputs": [
    {
     "data": {
      "text/plain": [
       "array([-8.22172321e+07, -2.20850539e+08, -3.67986141e+07,  1.87875829e+01,\n",
       "       -1.21967396e+01,  1.65384504e+00])"
      ]
     },
     "execution_count": 11,
     "metadata": {},
     "output_type": "execute_result"
    }
   ],
   "source": [
    "coe2rv(K, mpc_orbits[0, 0, :])"
   ]
  },
  {
   "cell_type": "code",
   "execution_count": null,
   "id": "5ac11310-9b26-40a2-8493-0d31ae54e2dc",
   "metadata": {},
   "outputs": [],
   "source": []
  }
 ],
 "metadata": {
  "kernelspec": {
   "display_name": "Python 3 (ipykernel)",
   "language": "python",
   "name": "python3"
  },
  "language_info": {
   "codemirror_mode": {
    "name": "ipython",
    "version": 3
   },
   "file_extension": ".py",
   "mimetype": "text/x-python",
   "name": "python",
   "nbconvert_exporter": "python",
   "pygments_lexer": "ipython3",
   "version": "3.10.5"
  }
 },
 "nbformat": 4,
 "nbformat_minor": 5
}
