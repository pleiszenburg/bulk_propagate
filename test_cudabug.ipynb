{
 "cells": [
  {
   "cell_type": "code",
   "execution_count": 1,
   "id": "27163a5a-81cc-4fe6-a720-03914e5d284c",
   "metadata": {},
   "outputs": [],
   "source": [
    "from math import sin, cos\n",
    "\n",
    "import numpy as np\n",
    "import numba as nb\n",
    "from numba import cuda"
   ]
  },
  {
   "cell_type": "code",
   "execution_count": 2,
   "id": "95c6aebc-fd56-4f33-8fb9-4fec6d162fb1",
   "metadata": {},
   "outputs": [],
   "source": [
    "@cuda.jit('f8(f8)', device = True, inline = True)\n",
    "def vectorized_cuda_dummy(scalar: float) -> float:\n",
    "    res: float = 0.0\n",
    "    for idx in range(round(scalar)):\n",
    "        if idx % 2 == 0:\n",
    "            res += sin(idx)\n",
    "        else:\n",
    "            res -= cos(idx)\n",
    "    return res\n",
    "\n",
    "@nb.vectorize('f8(f8)', target = 'cuda')\n",
    "def vectorized_cuda(d: float) -> float:\n",
    "    return vectorized_cuda_dummy(d)"
   ]
  },
  {
   "cell_type": "code",
   "execution_count": 3,
   "id": "d96d1161-8ecd-4677-8f54-50b00e392723",
   "metadata": {},
   "outputs": [
    {
     "name": "stdout",
     "output_type": "stream",
     "text": [
      "Testing size==2**2 ...\n",
      "... finished.\n",
      "Testing size==2**3 ...\n",
      "... finished.\n",
      "Testing size==2**4 ...\n",
      "... finished.\n",
      "Testing size==2**5 ...\n",
      "... finished.\n",
      "Testing size==2**6 ...\n",
      "... finished.\n",
      "Testing size==2**7 ...\n",
      "... finished.\n",
      "Testing size==2**8 ...\n",
      "... finished.\n",
      "Testing size==2**9 ...\n",
      "... finished.\n",
      "Testing size==2**10 ...\n",
      "... finished.\n",
      "Testing size==2**11 ...\n",
      "... finished.\n",
      "Testing size==2**12 ...\n",
      "... finished.\n",
      "Testing size==2**13 ...\n",
      "... finished.\n",
      "Testing size==2**14 ...\n"
     ]
    },
    {
     "name": "stderr",
     "output_type": "stream",
     "text": [
      "/home/ernst/Desktop/PROJEKTE/prj.TST2/github.poliastro/env310/lib/python3.10/site-packages/numba/cuda/compiler.py:726: NumbaPerformanceWarning: Grid size (1) < 2 * SM count (128) will likely result in GPU under utilization due to low occupancy.\n",
      "  warn(NumbaPerformanceWarning(msg))\n",
      "/home/ernst/Desktop/PROJEKTE/prj.TST2/github.poliastro/env310/lib/python3.10/site-packages/numba/cuda/compiler.py:726: NumbaPerformanceWarning: Grid size (2) < 2 * SM count (128) will likely result in GPU under utilization due to low occupancy.\n",
      "  warn(NumbaPerformanceWarning(msg))\n",
      "/home/ernst/Desktop/PROJEKTE/prj.TST2/github.poliastro/env310/lib/python3.10/site-packages/numba/cuda/compiler.py:726: NumbaPerformanceWarning: Grid size (4) < 2 * SM count (128) will likely result in GPU under utilization due to low occupancy.\n",
      "  warn(NumbaPerformanceWarning(msg))\n",
      "/home/ernst/Desktop/PROJEKTE/prj.TST2/github.poliastro/env310/lib/python3.10/site-packages/numba/cuda/compiler.py:726: NumbaPerformanceWarning: Grid size (7) < 2 * SM count (128) will likely result in GPU under utilization due to low occupancy.\n",
      "  warn(NumbaPerformanceWarning(msg))\n",
      "/home/ernst/Desktop/PROJEKTE/prj.TST2/github.poliastro/env310/lib/python3.10/site-packages/numba/cuda/compiler.py:726: NumbaPerformanceWarning: Grid size (13) < 2 * SM count (128) will likely result in GPU under utilization due to low occupancy.\n",
      "  warn(NumbaPerformanceWarning(msg))\n",
      "/home/ernst/Desktop/PROJEKTE/prj.TST2/github.poliastro/env310/lib/python3.10/site-packages/numba/cuda/compiler.py:726: NumbaPerformanceWarning: Grid size (26) < 2 * SM count (128) will likely result in GPU under utilization due to low occupancy.\n",
      "  warn(NumbaPerformanceWarning(msg))\n",
      "/home/ernst/Desktop/PROJEKTE/prj.TST2/github.poliastro/env310/lib/python3.10/site-packages/numba/cuda/compiler.py:726: NumbaPerformanceWarning: Grid size (52) < 2 * SM count (128) will likely result in GPU under utilization due to low occupancy.\n",
      "  warn(NumbaPerformanceWarning(msg))\n"
     ]
    },
    {
     "name": "stdout",
     "output_type": "stream",
     "text": [
      "... finished.\n",
      "Testing size==2**15 ...\n",
      "... finished.\n",
      "Testing size==2**16 ...\n"
     ]
    },
    {
     "name": "stderr",
     "output_type": "stream",
     "text": [
      "/home/ernst/Desktop/PROJEKTE/prj.TST2/github.poliastro/env310/lib/python3.10/site-packages/numba/cuda/compiler.py:726: NumbaPerformanceWarning: Grid size (103) < 2 * SM count (128) will likely result in GPU under utilization due to low occupancy.\n",
      "  warn(NumbaPerformanceWarning(msg))\n"
     ]
    },
    {
     "name": "stdout",
     "output_type": "stream",
     "text": [
      "... finished.\n",
      "Testing size==2**17 ...\n",
      "... finished.\n",
      "Testing size==2**18 ...\n",
      "... finished.\n",
      "Testing size==2**19 ...\n",
      "... finished.\n"
     ]
    }
   ],
   "source": [
    "for exp in range(2, 20):\n",
    "    print(f'Testing size==2**{exp:d} ...')\n",
    "    data = np.arange(0, 2 ** exp, dtype = 'f8')\n",
    "    result = vectorized_cuda(data)\n",
    "    print('... finished.')"
   ]
  },
  {
   "cell_type": "code",
   "execution_count": null,
   "id": "f7474daf-f2a5-4040-98a1-1dbc01666fff",
   "metadata": {},
   "outputs": [],
   "source": []
  }
 ],
 "metadata": {
  "kernelspec": {
   "display_name": "Python 3 (ipykernel)",
   "language": "python",
   "name": "python3"
  },
  "language_info": {
   "codemirror_mode": {
    "name": "ipython",
    "version": 3
   },
   "file_extension": ".py",
   "mimetype": "text/x-python",
   "name": "python",
   "nbconvert_exporter": "python",
   "pygments_lexer": "ipython3",
   "version": "3.10.5"
  }
 },
 "nbformat": 4,
 "nbformat_minor": 5
}
