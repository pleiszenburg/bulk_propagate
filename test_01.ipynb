{
 "cells": [
  {
   "cell_type": "code",
   "execution_count": 1,
   "id": "4debbbc1-6650-4962-bdea-38c9698a3343",
   "metadata": {},
   "outputs": [],
   "source": [
    "import gc\n",
    "from time import time_ns\n",
    "\n",
    "import matplotlib.pyplot as plt\n",
    "import numpy as np\n",
    "import numba as nb\n",
    "from tqdm import tqdm"
   ]
  },
  {
   "cell_type": "code",
   "execution_count": 2,
   "id": "252d057e-976c-4a03-9a33-7e306e78f48c",
   "metadata": {},
   "outputs": [],
   "source": [
    "def iterative(d):\n",
    "    r = np.zeros(d.shape, dtype = d.dtype)\n",
    "    for idx in range(d.shape[0]):\n",
    "        if d[idx] > 50:\n",
    "            r[idx] = d[idx] * 2\n",
    "        else:\n",
    "            r[idx] = d[idx] * -2\n",
    "    return r"
   ]
  },
  {
   "cell_type": "code",
   "execution_count": 3,
   "id": "7a7f25f4-6341-4aa2-8d4f-646e7e29488c",
   "metadata": {},
   "outputs": [],
   "source": [
    "@nb.njit\n",
    "def iterative_jit(d):\n",
    "    r = np.zeros(d.shape, dtype = d.dtype)\n",
    "    for idx in range(d.shape[0]):\n",
    "        if d[idx] > 50:\n",
    "            r[idx] = d[idx] * 2\n",
    "        else:\n",
    "            r[idx] = d[idx] * -2\n",
    "    return r"
   ]
  },
  {
   "cell_type": "code",
   "execution_count": 4,
   "id": "0c6b3cac-84b3-4889-bf03-5cfe866c7735",
   "metadata": {},
   "outputs": [],
   "source": [
    "@nb.njit(parallel = True)\n",
    "def iterative_jit_parallel(d):\n",
    "    r = np.zeros(d.shape, dtype = d.dtype)\n",
    "    for idx in nb.prange(d.shape[0]):\n",
    "        if d[idx] > 50:\n",
    "            r[idx] = d[idx] * 2\n",
    "        else:\n",
    "            r[idx] = d[idx] * -2\n",
    "    return r"
   ]
  },
  {
   "cell_type": "code",
   "execution_count": 5,
   "id": "fe1d9364-0ed0-426e-b2d8-6f1afdbf4fde",
   "metadata": {},
   "outputs": [],
   "source": [
    "def masked_array(d):\n",
    "    r = np.zeros(d.shape, dtype = d.dtype)\n",
    "    mask = d > 50\n",
    "    r[mask] = d[mask] * 2\n",
    "    r[~mask] = d[~mask] * -2\n",
    "    return r"
   ]
  },
  {
   "cell_type": "code",
   "execution_count": 6,
   "id": "87aa10ae-f7b5-4bf7-beee-5126b2a8acda",
   "metadata": {},
   "outputs": [],
   "source": [
    "@nb.njit()\n",
    "def masked_array_jit(d):\n",
    "    r = np.empty(d.shape, dtype = d.dtype)\n",
    "    mask = d > 50\n",
    "    r[mask] = d[mask] * 2\n",
    "    r[~mask] = d[~mask] * -2\n",
    "    return r"
   ]
  },
  {
   "cell_type": "code",
   "execution_count": 15,
   "id": "68620b2f-0b68-434e-8b16-2dba2ce4e5d5",
   "metadata": {},
   "outputs": [],
   "source": [
    "@nb.vectorize\n",
    "def vectorized_array_jit(d):\n",
    "    if d > 50:\n",
    "        r = d * 2\n",
    "    else:\n",
    "        r = d * -2\n",
    "    return r"
   ]
  },
  {
   "cell_type": "code",
   "execution_count": 16,
   "id": "230903c4-9948-43bd-ba8d-07c5da8ecdcc",
   "metadata": {},
   "outputs": [],
   "source": [
    "funcs = [\n",
    "    iterative,\n",
    "    iterative_jit,\n",
    "    iterative_jit_parallel,\n",
    "    masked_array,\n",
    "    masked_array_jit,\n",
    "    vectorized_array_jit,\n",
    "]"
   ]
  },
  {
   "cell_type": "code",
   "execution_count": 17,
   "id": "0207051e-5077-4b13-b2c7-50259ddf8333",
   "metadata": {},
   "outputs": [],
   "source": [
    "def test_all(size = 100):\n",
    "    \n",
    "    data = np.random.random(size) * 100\n",
    "    res_base = funcs[0](data)\n",
    "    \n",
    "    for func in funcs[1:]:\n",
    "        res = func(data)\n",
    "        assert np.allclose(res_base, res)\n",
    "        \n",
    "test_all()"
   ]
  },
  {
   "cell_type": "code",
   "execution_count": 18,
   "id": "3dc7b8f9-b5b3-464e-b3fe-3bdb127faee9",
   "metadata": {},
   "outputs": [
    {
     "name": "stderr",
     "output_type": "stream",
     "text": [
      "100%|██████████████████████████████████████████████████████████████████████████████████████████████████████████████████████████████████████████████████████████████████████████████████████████████████████████████████████████████████████████████████████████████████████████████████████████████████████████████████████████████████████████████████████████████████████████████████████████████████████████████████| 29/29 [00:58<00:00,  2.03s/it]\n"
     ]
    }
   ],
   "source": [
    "def benchmark(start = 2, stop = 16, reps = 5):\n",
    "    sizes = (2 ** np.arange(start, stop + 0.5, 0.5)).astype('i8')\n",
    "    results = {func.__name__: [] for func in funcs[1:]}\n",
    "    gc.disable()\n",
    "    for size in tqdm(sizes):\n",
    "        data = np.random.random(size) * 100\n",
    "        for func in funcs[1:]:  # exclude pure python\n",
    "            runtimes = []\n",
    "            for rep in range(reps):\n",
    "                gc.collect()\n",
    "                start = time_ns()\n",
    "                _ = func(data)\n",
    "                runtime = time_ns() - start\n",
    "                runtimes.append(runtime)\n",
    "            results[func.__name__].append(min(runtimes) * 1e-9)\n",
    "    gc.enable()\n",
    "    return sizes, results\n",
    "\n",
    "s, r = benchmark()"
   ]
  },
  {
   "cell_type": "code",
   "execution_count": 19,
   "id": "844e9593-6c6a-4c56-a2b6-51d3798bb2ab",
   "metadata": {},
   "outputs": [
    {
     "data": {
      "image/png": "[encoded data removed]",
      "text/plain": [
       "<Figure size 432x288 with 1 Axes>"
      ]
     },
     "metadata": {
      "needs_background": "light"
     },
     "output_type": "display_data"
    }
   ],
   "source": [
    "def plot(sizes, results):\n",
    "    fig, ax = plt.subplots()\n",
    "    for name, values in results.items():\n",
    "        ax.plot(sizes, values, label = name)\n",
    "    ax.legend()\n",
    "    fig.tight_layout()\n",
    "\n",
    "plot(s, r)"
   ]
  },
  {
   "cell_type": "code",
   "execution_count": null,
   "id": "afcb4276-0042-4411-93d4-5ee1ca4916eb",
   "metadata": {},
   "outputs": [],
   "source": []
  }
 ],
 "metadata": {
  "kernelspec": {
   "display_name": "Python 3 (ipykernel)",
   "language": "python",
   "name": "python3"
  },
  "language_info": {
   "codemirror_mode": {
    "name": "ipython",
    "version": 3
   },
   "file_extension": ".py",
   "mimetype": "text/x-python",
   "name": "python",
   "nbconvert_exporter": "python",
   "pygments_lexer": "ipython3",
   "version": "3.9.10"
  }
 },
 "nbformat": 4,
 "nbformat_minor": 5
}
