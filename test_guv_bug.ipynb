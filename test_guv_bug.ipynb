{
 "cells": [
  {
   "cell_type": "markdown",
   "id": "174c5175-925d-44db-bb79-3912de076299",
   "metadata": {},
   "source": [
    "# Imports"
   ]
  },
  {
   "cell_type": "code",
   "execution_count": 1,
   "id": "f2443dae-e868-4877-a352-8bb07af09c44",
   "metadata": {},
   "outputs": [],
   "source": [
    "from numba import guvectorize, jit, cuda\n",
    "import numpy as np"
   ]
  },
  {
   "cell_type": "markdown",
   "id": "00a1a8e9-d8b9-4789-b947-ee79e94cef9a",
   "metadata": {},
   "source": [
    "# Jit-wrapper for cross-compilation, simplified"
   ]
  },
  {
   "cell_type": "code",
   "execution_count": 2,
   "id": "4ca8be62-8596-4071-9391-709840277374",
   "metadata": {},
   "outputs": [],
   "source": [
    "TARGET = 'cuda'\n",
    "assert TARGET in ('cpu', 'parallel', 'cuda')\n",
    "\n",
    "if TARGET == 'cuda':  # select decorator and configuration for \"helper\" function(s)\n",
    "    hjit = cuda.jit\n",
    "    hkwargs = dict(device = True, inline = True)\n",
    "else:\n",
    "    hjit = jit\n",
    "    hkwargs = dict(nopython = True, inline = 'always')\n",
    "\n",
    "def _parse_signature(s):  # simplify complicated signatures (tuples because, well, returning arrays does not work for device functions)\n",
    "    s = s.replace('M', 'Tuple([V,V,V])')\n",
    "    s = s.replace('V', 'Tuple([f,f,f])')\n",
    "    return s.replace('f', 'f8')"
   ]
  },
  {
   "cell_type": "markdown",
   "id": "23c174f9-80f5-4eca-b91b-13da8105903d",
   "metadata": {},
   "source": [
    "# Demo helper function\n",
    "\n",
    "If the target is `cuda`, it's a device function."
   ]
  },
  {
   "cell_type": "code",
   "execution_count": 3,
   "id": "13f16843-d178-4970-9d3b-7b5c7f6fc267",
   "metadata": {},
   "outputs": [],
   "source": [
    "@hjit(_parse_signature('V(V,M)'), **hkwargs)\n",
    "def matmul_VM_(a, b):\n",
    "    return (\n",
    "        a[0] * b[0][0] + a[1] * b[1][0] + a[2] * b[2][0],\n",
    "        a[0] * b[0][1] + a[1] * b[1][1] + a[2] * b[2][1],\n",
    "        a[0] * b[0][2] + a[1] * b[1][2] + a[2] * b[2][2],\n",
    "    )"
   ]
  },
  {
   "cell_type": "markdown",
   "id": "088b89c2-8052-4501-a1e5-8e2b83f0c425",
   "metadata": {},
   "source": [
    "# Demo generalized universal function\n",
    "\n",
    "Works for targets `cpu` and `parallel`, breaks down on `cuda`."
   ]
  },
  {
   "cell_type": "code",
   "execution_count": 4,
   "id": "d917f487-87da-4d54-9f14-a89784a812b9",
   "metadata": {},
   "outputs": [
    {
     "ename": "AssertionError",
     "evalue": "only support 1 output",
     "output_type": "error",
     "traceback": [
      "\u001b[0;31m---------------------------------------------------------------------------\u001b[0m",
      "\u001b[0;31mAssertionError\u001b[0m                            Traceback (most recent call last)",
      "Input \u001b[0;32mIn [4]\u001b[0m, in \u001b[0;36m<cell line: 1>\u001b[0;34m()\u001b[0m\n\u001b[1;32m      1\u001b[0m \u001b[38;5;129;43m@guvectorize\u001b[39;49m\u001b[43m(\u001b[49m\n\u001b[1;32m      2\u001b[0m \u001b[43m    \u001b[49m\u001b[43m_parse_signature\u001b[49m\u001b[43m(\u001b[49m\u001b[38;5;124;43m'\u001b[39;49m\u001b[38;5;124;43mvoid(f[:],f[:],f[:],f[:],f[:],f[:])\u001b[39;49m\u001b[38;5;124;43m'\u001b[39;49m\u001b[43m)\u001b[49m\u001b[43m,\u001b[49m\n\u001b[1;32m      3\u001b[0m \u001b[43m    \u001b[49m\u001b[38;5;124;43m'\u001b[39;49m\u001b[38;5;124;43m(n),(n),(n)->(n),(n),(n)\u001b[39;49m\u001b[38;5;124;43m'\u001b[39;49m\u001b[43m,\u001b[49m\u001b[43m  \u001b[49m\u001b[38;5;66;43;03m# For target `cuda`: 'AssertionError: only support 1 output'\u001b[39;49;00m\n\u001b[1;32m      4\u001b[0m \u001b[43m    \u001b[49m\u001b[38;5;66;43;03m# '(n),(n),(n)->(3,n)',  # For target `cuda`: 'ValueError: bad token in signature \"3\"'\u001b[39;49;00m\n\u001b[1;32m      5\u001b[0m \u001b[43m    \u001b[49m\u001b[43mtarget\u001b[49m\u001b[43m \u001b[49m\u001b[38;5;241;43m=\u001b[39;49m\u001b[43m \u001b[49m\u001b[43mTARGET\u001b[49m\u001b[43m,\u001b[49m\n\u001b[1;32m      6\u001b[0m \u001b[43m    \u001b[49m\u001b[43mnopython\u001b[49m\u001b[43m \u001b[49m\u001b[38;5;241;43m=\u001b[39;49m\u001b[43m \u001b[49m\u001b[38;5;28;43;01mTrue\u001b[39;49;00m\u001b[43m,\u001b[49m\n\u001b[1;32m      7\u001b[0m \u001b[43m)\u001b[49m\n\u001b[0;32m----> 8\u001b[0m \u001b[38;5;28;43;01mdef\u001b[39;49;00m\u001b[43m \u001b[49m\u001b[38;5;21;43mfoo\u001b[39;49m\u001b[43m(\u001b[49m\u001b[43ma\u001b[49m\u001b[43m,\u001b[49m\u001b[43m \u001b[49m\u001b[43mb\u001b[49m\u001b[43m,\u001b[49m\u001b[43m \u001b[49m\u001b[43mc\u001b[49m\u001b[43m,\u001b[49m\u001b[43m \u001b[49m\u001b[43mx\u001b[49m\u001b[43m,\u001b[49m\u001b[43m \u001b[49m\u001b[43my\u001b[49m\u001b[43m,\u001b[49m\u001b[43m \u001b[49m\u001b[43mz\u001b[49m\u001b[43m)\u001b[49m\u001b[43m:\u001b[49m\n\u001b[1;32m      9\u001b[0m \u001b[43m    \u001b[49m\u001b[43mR\u001b[49m\u001b[43m \u001b[49m\u001b[38;5;241;43m=\u001b[39;49m\u001b[43m \u001b[49m\u001b[43m(\u001b[49m\n\u001b[1;32m     10\u001b[0m \u001b[43m        \u001b[49m\u001b[43m(\u001b[49m\u001b[38;5;241;43m0.2\u001b[39;49m\u001b[43m,\u001b[49m\u001b[43m \u001b[49m\u001b[38;5;241;43m0.8\u001b[39;49m\u001b[43m,\u001b[49m\u001b[43m \u001b[49m\u001b[38;5;241;43m0.3\u001b[39;49m\u001b[43m)\u001b[49m\u001b[43m,\u001b[49m\n\u001b[1;32m     11\u001b[0m \u001b[43m        \u001b[49m\u001b[43m(\u001b[49m\u001b[38;5;241;43m0.3\u001b[39;49m\u001b[43m,\u001b[49m\u001b[43m \u001b[49m\u001b[38;5;241;43m0.5\u001b[39;49m\u001b[43m,\u001b[49m\u001b[43m \u001b[49m\u001b[38;5;241;43m0.6\u001b[39;49m\u001b[43m)\u001b[49m\u001b[43m,\u001b[49m\n\u001b[1;32m     12\u001b[0m \u001b[43m        \u001b[49m\u001b[43m(\u001b[49m\u001b[38;5;241;43m0.4\u001b[39;49m\u001b[43m,\u001b[49m\u001b[43m \u001b[49m\u001b[38;5;241;43m0.1\u001b[39;49m\u001b[43m,\u001b[49m\u001b[43m \u001b[49m\u001b[38;5;241;43m0.8\u001b[39;49m\u001b[43m)\u001b[49m\u001b[43m,\u001b[49m\n\u001b[1;32m     13\u001b[0m \u001b[43m    \u001b[49m\u001b[43m)\u001b[49m\n\u001b[1;32m     14\u001b[0m \u001b[43m    \u001b[49m\u001b[38;5;28;43;01mfor\u001b[39;49;00m\u001b[43m \u001b[49m\u001b[43midx\u001b[49m\u001b[43m \u001b[49m\u001b[38;5;129;43;01min\u001b[39;49;00m\u001b[43m \u001b[49m\u001b[38;5;28;43mrange\u001b[39;49m\u001b[43m(\u001b[49m\u001b[43ma\u001b[49m\u001b[38;5;241;43m.\u001b[39;49m\u001b[43mshape\u001b[49m\u001b[43m[\u001b[49m\u001b[38;5;241;43m0\u001b[39;49m\u001b[43m]\u001b[49m\u001b[43m)\u001b[49m\u001b[43m:\u001b[49m\n",
      "File \u001b[0;32m~/Desktop/PROJEKTE/prj.TST2/github.poliastro/env310/lib/python3.10/site-packages/numba/np/ufunc/decorators.py:192\u001b[0m, in \u001b[0;36mguvectorize.<locals>.wrap\u001b[0;34m(func)\u001b[0m\n\u001b[1;32m    191\u001b[0m \u001b[38;5;28;01mdef\u001b[39;00m \u001b[38;5;21mwrap\u001b[39m(func):\n\u001b[0;32m--> 192\u001b[0m     guvec \u001b[38;5;241m=\u001b[39m \u001b[43mGUVectorize\u001b[49m\u001b[43m(\u001b[49m\u001b[43mfunc\u001b[49m\u001b[43m,\u001b[49m\u001b[43m \u001b[49m\u001b[43msignature\u001b[49m\u001b[43m,\u001b[49m\u001b[43m \u001b[49m\u001b[38;5;241;43m*\u001b[39;49m\u001b[38;5;241;43m*\u001b[39;49m\u001b[43mkwargs\u001b[49m\u001b[43m)\u001b[49m\n\u001b[1;32m    193\u001b[0m     \u001b[38;5;28;01mfor\u001b[39;00m fty \u001b[38;5;129;01min\u001b[39;00m ftylist:\n\u001b[1;32m    194\u001b[0m         guvec\u001b[38;5;241m.\u001b[39madd(fty)\n",
      "File \u001b[0;32m~/Desktop/PROJEKTE/prj.TST2/github.poliastro/env310/lib/python3.10/site-packages/numba/np/ufunc/decorators.py:54\u001b[0m, in \u001b[0;36mGUVectorize.__new__\u001b[0;34m(cls, func, signature, **kws)\u001b[0m\n\u001b[1;32m     51\u001b[0m     \u001b[38;5;28;01mreturn\u001b[39;00m imp(func, signature, identity\u001b[38;5;241m=\u001b[39midentity, cache\u001b[38;5;241m=\u001b[39mcache,\n\u001b[1;32m     52\u001b[0m                is_dynamic\u001b[38;5;241m=\u001b[39mis_dyn, targetoptions\u001b[38;5;241m=\u001b[39mkws)\n\u001b[1;32m     53\u001b[0m \u001b[38;5;28;01melse\u001b[39;00m:\n\u001b[0;32m---> 54\u001b[0m     \u001b[38;5;28;01mreturn\u001b[39;00m \u001b[43mimp\u001b[49m\u001b[43m(\u001b[49m\u001b[43mfunc\u001b[49m\u001b[43m,\u001b[49m\u001b[43m \u001b[49m\u001b[43msignature\u001b[49m\u001b[43m,\u001b[49m\u001b[43m \u001b[49m\u001b[43midentity\u001b[49m\u001b[38;5;241;43m=\u001b[39;49m\u001b[43midentity\u001b[49m\u001b[43m,\u001b[49m\u001b[43m \u001b[49m\u001b[43mcache\u001b[49m\u001b[38;5;241;43m=\u001b[39;49m\u001b[43mcache\u001b[49m\u001b[43m,\u001b[49m\n\u001b[1;32m     55\u001b[0m \u001b[43m               \u001b[49m\u001b[43mtargetoptions\u001b[49m\u001b[38;5;241;43m=\u001b[39;49m\u001b[43mkws\u001b[49m\u001b[43m)\u001b[49m\n",
      "File \u001b[0;32m~/Desktop/PROJEKTE/prj.TST2/github.poliastro/env310/lib/python3.10/site-packages/numba/np/ufunc/deviceufunc.py:448\u001b[0m, in \u001b[0;36mDeviceGUFuncVectorize.__init__\u001b[0;34m(self, func, sig, identity, cache, targetoptions)\u001b[0m\n\u001b[1;32m    446\u001b[0m \u001b[38;5;28mself\u001b[39m\u001b[38;5;241m.\u001b[39msignature \u001b[38;5;241m=\u001b[39m sig\n\u001b[1;32m    447\u001b[0m \u001b[38;5;28mself\u001b[39m\u001b[38;5;241m.\u001b[39minputsig, \u001b[38;5;28mself\u001b[39m\u001b[38;5;241m.\u001b[39moutputsig \u001b[38;5;241m=\u001b[39m parse_signature(\u001b[38;5;28mself\u001b[39m\u001b[38;5;241m.\u001b[39msignature)\n\u001b[0;32m--> 448\u001b[0m \u001b[38;5;28;01massert\u001b[39;00m \u001b[38;5;28mlen\u001b[39m(\u001b[38;5;28mself\u001b[39m\u001b[38;5;241m.\u001b[39moutputsig) \u001b[38;5;241m==\u001b[39m \u001b[38;5;241m1\u001b[39m, \u001b[38;5;124m\"\u001b[39m\u001b[38;5;124monly support 1 output\u001b[39m\u001b[38;5;124m\"\u001b[39m\n\u001b[1;32m    449\u001b[0m \u001b[38;5;66;03m# { arg_dtype: (return_dtype), cudakernel }\u001b[39;00m\n\u001b[1;32m    450\u001b[0m \u001b[38;5;28mself\u001b[39m\u001b[38;5;241m.\u001b[39mkernelmap \u001b[38;5;241m=\u001b[39m OrderedDict()\n",
      "\u001b[0;31mAssertionError\u001b[0m: only support 1 output"
     ]
    }
   ],
   "source": [
    "@guvectorize(\n",
    "    _parse_signature('void(f[:],f[:],f[:],f[:],f[:],f[:])'),\n",
    "    '(n),(n),(n)->(n),(n),(n)',  # For target `cuda`: 'AssertionError: only support 1 output'\n",
    "    # '(n),(n),(n)->(3,n)',  # For target `cuda`: 'ValueError: bad token in signature \"3\"'\n",
    "    target = TARGET,\n",
    "    nopython = True,\n",
    ")\n",
    "def foo(a, b, c, x, y, z):\n",
    "    R = (\n",
    "        (0.2, 0.8, 0.3),\n",
    "        (0.3, 0.5, 0.6),\n",
    "        (0.4, 0.1, 0.8),\n",
    "    )\n",
    "    for idx in range(a.shape[0]):\n",
    "        x[idx], y[idx], z[idx] = matmul_VM_((a[idx], b[idx], c[idx]), R)"
   ]
  },
  {
   "cell_type": "markdown",
   "id": "39247945-1203-43e3-b69a-f1092d07abad",
   "metadata": {},
   "source": [
    "# Demo usage\n",
    "\n",
    "Works for targets `cpu` and `parallel` - so far."
   ]
  },
  {
   "cell_type": "code",
   "execution_count": null,
   "id": "00f0053d-1437-474f-becf-b64a28f97bde",
   "metadata": {},
   "outputs": [],
   "source": [
    "LEN = 100_000_000\n",
    "\n",
    "data = np.arange(0, 3 * LEN, dtype = 'f8').reshape(3, LEN)\n",
    "res = np.zeros_like(data)\n",
    "\n",
    "foo(data[0], data[1], data[2], res[0], res[1], res[2])\n",
    "res"
   ]
  },
  {
   "cell_type": "code",
   "execution_count": null,
   "id": "a423becf-1d21-4357-b115-bd41f52c1220",
   "metadata": {},
   "outputs": [],
   "source": []
  }
 ],
 "metadata": {
  "kernelspec": {
   "display_name": "Python 3 (ipykernel)",
   "language": "python",
   "name": "python3"
  },
  "language_info": {
   "codemirror_mode": {
    "name": "ipython",
    "version": 3
   },
   "file_extension": ".py",
   "mimetype": "text/x-python",
   "name": "python",
   "nbconvert_exporter": "python",
   "pygments_lexer": "ipython3",
   "version": "3.10.5"
  }
 },
 "nbformat": 4,
 "nbformat_minor": 5
}
