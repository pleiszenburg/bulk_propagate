{
 "cells": [
  {
   "cell_type": "code",
   "execution_count": 1,
   "id": "bbaabc19-ae03-408b-94dd-032a58d300b5",
   "metadata": {},
   "outputs": [],
   "source": [
    "import numba as nb\n",
    "from numba import cuda\n",
    "import numpy as np"
   ]
  },
  {
   "cell_type": "markdown",
   "id": "87d6b89f-27d2-4362-8562-4551eeaccaae",
   "metadata": {},
   "source": [
    "https://stackoverflow.com/questions/27567846/how-can-i-check-out-a-github-pull-request-with-git"
   ]
  },
  {
   "cell_type": "code",
   "execution_count": null,
   "id": "74c2f0e5-1e11-4eb8-a268-5f9f0e550b92",
   "metadata": {},
   "outputs": [],
   "source": [
    "for target in ('cpu', 'parallel', 'cuda'):\n",
    "\n",
    "    @nb.vectorize(['f4(f4)', 'f8(f8)'], target = target)\n",
    "    def demo(x):\n",
    "        return x ** 2\n",
    "\n",
    "    for dtype in (np.float32, np.float64):\n",
    "        \n",
    "        data = np.arange(2**14, dtype = dtype)\n",
    "        result = demo(data)\n",
    "        print(target, type(demo), data.dtype, result.dtype)\n",
    "        \n",
    "        assert result.dtype == dtype\n",
    "    \n",
    "    del demo"
   ]
  },
  {
   "cell_type": "code",
   "execution_count": null,
   "id": "00ca1464-30b4-4e3b-bf98-09314d7bf92b",
   "metadata": {},
   "outputs": [],
   "source": [
    "COMPLEXITY = 2 ** 11\n",
    "\n",
    "from math import cos, sin\n",
    "\n",
    "for target in ('cpu', 'parallel', 'cuda'):\n",
    "\n",
    "    if target == 'cuda':\n",
    "    \n",
    "        @cuda.jit(['f4(f4)', 'f8(f8)'], device = True)\n",
    "        def helper(scalar: float) -> float:\n",
    "            res: float = 0.0\n",
    "            for idx in range(COMPLEXITY):\n",
    "                if idx % 2 == round(scalar) % 2:\n",
    "                    res += sin(idx)\n",
    "                else:\n",
    "                    res -= cos(idx)\n",
    "            return res\n",
    "    \n",
    "    else:\n",
    "        \n",
    "        @nb.jit(['f4(f4)', 'f8(f8)'], nopython = True)\n",
    "        def helper(scalar: float) -> float:\n",
    "            res: float = 0.0\n",
    "            for idx in range(COMPLEXITY):\n",
    "                if idx % 2 == round(scalar) % 2:\n",
    "                    res += sin(idx)\n",
    "                else:\n",
    "                    res -= cos(idx)\n",
    "            return res\n",
    "\n",
    "    @nb.vectorize(['f4(f4)', 'f8(f8)'], nopython = True, target = target)\n",
    "    def demo(d: float) -> float:\n",
    "        return helper(d)\n",
    "\n",
    "    for dtype in (np.float32, np.float64):\n",
    "        \n",
    "        data = np.arange(2**14, dtype = dtype)\n",
    "        result = demo(data)\n",
    "        print(target, type(demo), data.dtype, result.dtype)\n",
    "        \n",
    "        assert result.dtype == dtype\n",
    "    \n",
    "    del demo, helper"
   ]
  },
  {
   "cell_type": "code",
   "execution_count": null,
   "id": "a20d493d-4cc8-4d4e-bba9-f173b2f63ef3",
   "metadata": {},
   "outputs": [],
   "source": [
    "COMPLEXITY = 2 ** 11\n",
    "\n",
    "from math import cos, sin\n",
    "\n",
    "for target in ('cpu', 'parallel', 'cuda'):\n",
    "\n",
    "    if target == 'cuda':\n",
    "    \n",
    "        @cuda.jit(['f4(f4)', 'f8(f8)'], device = True)\n",
    "        def helper(scalar: float) -> float:\n",
    "            return sin(scalar)\n",
    "    \n",
    "    else:\n",
    "        \n",
    "        @nb.jit(['f4(f4)', 'f8(f8)'], nopython = True)\n",
    "        def helper(scalar: float) -> float:\n",
    "            return sin(scalar)\n",
    "\n",
    "    @nb.vectorize(['f4(f4)', 'f8(f8)'], nopython = True, target = target)\n",
    "    def demo(d: float) -> float:\n",
    "        return helper(d)\n",
    "\n",
    "    for dtype in (np.float32, np.float64):\n",
    "        \n",
    "        data = np.arange(2**14, dtype = dtype)\n",
    "        result = demo(data)\n",
    "        print(target, type(demo), data.dtype, result.dtype)\n",
    "        \n",
    "        assert result.dtype == dtype\n",
    "    \n",
    "    del helper"
   ]
  },
  {
   "cell_type": "code",
   "execution_count": 2,
   "id": "104361a3-68df-48c3-bbfc-5043e6d72769",
   "metadata": {},
   "outputs": [
    {
     "name": "stdout",
     "output_type": "stream",
     "text": [
      "cpu <class 'numba.np.ufunc.dufunc.DUFunc'> float32 float32\n",
      "parallel <class 'numpy.ufunc'> float32 float32\n"
     ]
    },
    {
     "name": "stderr",
     "output_type": "stream",
     "text": [
      "/home/ernst/Desktop/PROJEKTE/prj.TST2/github.numba/numba/np/ufunc/deviceufunc.py:364: RuntimeWarning: nopython kwarg for cuda target is redundant\n",
      "  warnings.warn(\"nopython kwarg for cuda target is redundant\",\n",
      "/home/ernst/Desktop/PROJEKTE/prj.TST2/github.numba/numba/cuda/dispatcher.py:488: NumbaPerformanceWarning: Grid size 26 will likely result in GPU under-utilization due to low occupancy.\n",
      "  warn(NumbaPerformanceWarning(msg))\n"
     ]
    },
    {
     "name": "stdout",
     "output_type": "stream",
     "text": [
      "cuda <class 'numba.cuda.vectorizers.CUDAUFuncDispatcher'> float32 float64\n"
     ]
    },
    {
     "ename": "AssertionError",
     "evalue": "",
     "output_type": "error",
     "traceback": [
      "\u001b[0;31m---------------------------------------------------------------------------\u001b[0m",
      "\u001b[0;31mAssertionError\u001b[0m                            Traceback (most recent call last)",
      "Input \u001b[0;32mIn [2]\u001b[0m, in \u001b[0;36m<cell line: 5>\u001b[0;34m()\u001b[0m\n\u001b[1;32m     38\u001b[0m     result \u001b[38;5;241m=\u001b[39m demo(data)\n\u001b[1;32m     39\u001b[0m     \u001b[38;5;28mprint\u001b[39m(target, \u001b[38;5;28mtype\u001b[39m(demo), data\u001b[38;5;241m.\u001b[39mdtype, result\u001b[38;5;241m.\u001b[39mdtype)\n\u001b[0;32m---> 41\u001b[0m     \u001b[38;5;28;01massert\u001b[39;00m result\u001b[38;5;241m.\u001b[39mdtype \u001b[38;5;241m==\u001b[39m dtype\n\u001b[1;32m     43\u001b[0m \u001b[38;5;28;01mdel\u001b[39;00m demo, helper\n",
      "\u001b[0;31mAssertionError\u001b[0m: "
     ]
    }
   ],
   "source": [
    "COMPLEXITY = 2 ** 11\n",
    "\n",
    "from math import cos, sin\n",
    "\n",
    "for target in ('cpu', 'parallel', 'cuda'):\n",
    "\n",
    "    if target == 'cuda':\n",
    "    \n",
    "        @cuda.jit('f4(f4)', device = True)\n",
    "        def helper(scalar: float) -> float:\n",
    "            res: float = 0.0\n",
    "            for idx in range(COMPLEXITY):\n",
    "                if idx % 2 == round(scalar) % 2:\n",
    "                    res += sin(idx)\n",
    "                else:\n",
    "                    res -= cos(idx)\n",
    "            return res\n",
    "    \n",
    "    else:\n",
    "        \n",
    "        @nb.jit('f4(f4)', nopython = True)\n",
    "        def helper(scalar: float) -> float:\n",
    "            res: float = 0.0\n",
    "            for idx in range(COMPLEXITY):\n",
    "                if idx % 2 == round(scalar) % 2:\n",
    "                    res += sin(idx)\n",
    "                else:\n",
    "                    res -= cos(idx)\n",
    "            return res\n",
    "\n",
    "    @nb.vectorize('f4(f4)', nopython = True, target = target)\n",
    "    def demo(d: float) -> float:\n",
    "        return helper(d)\n",
    "\n",
    "    for dtype in (np.float32,):\n",
    "        \n",
    "        data = np.arange(2**14, dtype = dtype)\n",
    "        result = demo(data)\n",
    "        print(target, type(demo), data.dtype, result.dtype)\n",
    "        \n",
    "        assert result.dtype == dtype\n",
    "    \n",
    "    del demo, helper"
   ]
  },
  {
   "cell_type": "code",
   "execution_count": null,
   "id": "f026d60d-f764-4fe9-8101-b5221f9d3297",
   "metadata": {},
   "outputs": [],
   "source": []
  }
 ],
 "metadata": {
  "kernelspec": {
   "display_name": "Python 3 (ipykernel)",
   "language": "python",
   "name": "python3"
  },
  "language_info": {
   "codemirror_mode": {
    "name": "ipython",
    "version": 3
   },
   "file_extension": ".py",
   "mimetype": "text/x-python",
   "name": "python",
   "nbconvert_exporter": "python",
   "pygments_lexer": "ipython3",
   "version": "3.10.5"
  }
 },
 "nbformat": 4,
 "nbformat_minor": 5
}
