{
 "cells": [
  {
   "cell_type": "markdown",
   "id": "a5629d39-fcac-406e-97d5-58f92fd895d2",
   "metadata": {},
   "source": [
    "```python\n",
    "import numba as nb\n",
    "\n",
    "@nb.vectorize('f8(f8)', target = 'cpu')\n",
    "def foo(x):\n",
    "    return x ** 2\n",
    "\n",
    "@nb.vectorize('f8(f8)', target = 'cuda')\n",
    "def bar(x):\n",
    "    return x ** 2\n",
    "\n",
    "assert foo.__name__ == 'foo'\n",
    "assert bar.__name__ == 'bar'\n",
    "```"
   ]
  },
  {
   "cell_type": "code",
   "execution_count": 1,
   "id": "88791656-dada-44ea-8103-c72d04528ae2",
   "metadata": {},
   "outputs": [],
   "source": [
    "import numba as nb\n",
    "\n",
    "@nb.guvectorize('void(f8[:], f8[:])', '()->()', target = 'cpu')\n",
    "def foo(x, y):\n",
    "    y[0] = x[0] ** 2\n",
    "\n",
    "@nb.guvectorize('void(f8[:], f8[:])', '()->()', target = 'cuda')\n",
    "def bar(x, y):\n",
    "    y[0] = x[0] ** 2\n",
    "\n",
    "assert foo.__name__ == 'foo'\n",
    "assert bar.__name__ == 'bar'"
   ]
  },
  {
   "cell_type": "code",
   "execution_count": null,
   "id": "bd4874a5-da01-471f-818c-d641070d77ae",
   "metadata": {},
   "outputs": [],
   "source": []
  }
 ],
 "metadata": {
  "kernelspec": {
   "display_name": "Python 3 (ipykernel)",
   "language": "python",
   "name": "python3"
  },
  "language_info": {
   "codemirror_mode": {
    "name": "ipython",
    "version": 3
   },
   "file_extension": ".py",
   "mimetype": "text/x-python",
   "name": "python",
   "nbconvert_exporter": "python",
   "pygments_lexer": "ipython3",
   "version": "3.10.5"
  }
 },
 "nbformat": 4,
 "nbformat_minor": 5
}
